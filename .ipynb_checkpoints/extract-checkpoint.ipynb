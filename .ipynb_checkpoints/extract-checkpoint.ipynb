{
 "cells": [
  {
   "cell_type": "code",
   "execution_count": 1,
   "metadata": {},
   "outputs": [],
   "source": [
    "from bs4 import BeautifulSoup\n",
    "from splinter import Browser\n",
    "import pandas as pd\n",
    "from datetime import datetime, timedelta\n",
    "from pprint import pprint\n",
    "import time\n",
    "from dotenv import load_dotenv\n",
    "load_dotenv()\n",
    "import os"
   ]
  },
  {
   "cell_type": "code",
   "execution_count": 2,
   "metadata": {},
   "outputs": [],
   "source": [
    "user = os.getenv('USER')\n",
    "password = os.getenv('password')"
   ]
  },
  {
   "cell_type": "code",
   "execution_count": 8,
   "metadata": {},
   "outputs": [],
   "source": [
    "#Create the browser\n",
    "executable_path = {'executable_path': 'chromedriver.exe'}\n",
    "browser = Browser('chrome', **executable_path, headless=False)\n",
    "\n",
    "try:\n",
    "\n",
    "    #Visit the website in 'url'\n",
    "    url = 'https://www.appannie.com/dashboard/home'\n",
    "    browser.visit(url)\n",
    "\n",
    "    #Enter login info\n",
    "    time.sleep(1)\n",
    "    browser.find_by_name(name = 'username').type(user)\n",
    "    browser.find_by_css('input')[1].type(password)\n",
    "    browser.find_by_tag('button').click()\n",
    "\n",
    "    #########\n",
    "    def checker(func,go=None):\n",
    "        #func is a 'is_present' boolean\n",
    "        for i in range(3):\n",
    "            if func:\n",
    "                go\n",
    "                break\n",
    "            else:\n",
    "                browser.reload()\n",
    "                time.sleep(2)\n",
    "    ##########\n",
    "\n",
    "    #Check for presence of 'Top Chart' tab, click tab\n",
    "    checker((browser.is_element_present_by_text('Top Charts',wait_time=2)),browser.find_by_text('Top Charts').click())\n",
    "\n",
    "    #Create date range\n",
    "    today = datetime.now()\n",
    "    dates = [(today - timedelta(days=i)).strftime(\"%Y-%m-%d\") for i in range(90)]\n",
    "\n",
    "\n",
    "\n",
    "    #https://www.appannie.com/apps/ios/top-chart?country=US&category=36&device=iphone&date=2020-12-01&feed=All&page_number=0&page_size=500&rank_sorting_type=rank\n",
    "    #list of dictionaries, each one a different day\n",
    "    list_of_builds = []\n",
    "\n",
    "    for moment in dates:\n",
    "        #get top chart info\n",
    "        url = f'https://www.appannie.com/apps/ios/top-chart?country=US&category=36&device=iphone&date={moment}&feed=All&page_number=0&page_size=500&rank_sorting_type=rank'\n",
    "        browser.visit(url)\n",
    "        time.sleep(5)\n",
    "        html = browser.html\n",
    "        soup = BeautifulSoup(html,'html.parser')\n",
    "\n",
    "        checker(browser.is_element_present_by_css('table'))\n",
    "\n",
    "        all_trs = soup.table.tbody.find_all('tr')\n",
    "        build_df = {'Rank':[],'Date': moment,'Free':[],'Paid':[],'Grossing':[]}\n",
    "        for _ in all_trs:\n",
    "            current_rank_apps = [elem.text for elem in _.select('a span')]\n",
    "\n",
    "            rank_num = _.span.text\n",
    "            build_df['Rank'].append((rank_num))\n",
    "            build_df['Free'].append([current_rank_apps[0],current_rank_apps[1]])\n",
    "            build_df['Paid'].append([current_rank_apps[2],current_rank_apps[3]])\n",
    "            build_df['Grossing'].append([current_rank_apps[4],current_rank_apps[5]])\n",
    "\n",
    "        list_of_builds.append(build_df)\n",
    "\n",
    "    #concatenate all dataframes\n",
    "    builds_to_concat = [pd.DataFrame(_).set_index('Date') for _ in list_of_builds]\n",
    "    sep3_dec1_t500 = pd.concat(builds_to_concat)\n",
    "except:\n",
    "    browser.quit()\n",
    "finally:\n",
    "    browser.quit()"
   ]
  },
  {
   "cell_type": "code",
   "execution_count": 14,
   "metadata": {},
   "outputs": [],
   "source": [
    "sep3_dec1_t500.to_csv('top_500_90day.csv')"
   ]
  },
  {
   "cell_type": "code",
   "execution_count": null,
   "metadata": {},
   "outputs": [],
   "source": []
  }
 ],
 "metadata": {
  "kernelspec": {
   "display_name": "Python 3",
   "language": "python",
   "name": "python3"
  },
  "language_info": {
   "codemirror_mode": {
    "name": "ipython",
    "version": 3
   },
   "file_extension": ".py",
   "mimetype": "text/x-python",
   "name": "python",
   "nbconvert_exporter": "python",
   "pygments_lexer": "ipython3",
   "version": "3.7.6"
  }
 },
 "nbformat": 4,
 "nbformat_minor": 4
}
