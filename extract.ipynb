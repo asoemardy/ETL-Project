{
 "cells": [
  {
   "cell_type": "code",
   "execution_count": 116,
   "metadata": {},
   "outputs": [],
   "source": [
    "from bs4 import BeautifulSoup\n",
    "from splinter import Browser\n",
    "import pandas as pd\n",
    "from pprint import pprint\n",
    "import time"
   ]
  },
  {
   "cell_type": "code",
   "execution_count": 2,
   "metadata": {},
   "outputs": [],
   "source": [
    "executable_path = {'executable_path': 'chromedriver.exe'}\n",
    "\n",
    "browser = Browser('chrome', **executable_path, headless=False)"
   ]
  },
  {
   "cell_type": "code",
   "execution_count": 4,
   "metadata": {},
   "outputs": [],
   "source": [
    "url = 'https://www.appannie.com/dashboard/home'\n",
    "browser.visit(url)"
   ]
  },
  {
   "cell_type": "code",
   "execution_count": 5,
   "metadata": {},
   "outputs": [
    {
     "data": {
      "text/plain": [
       "'devindubin@gmail.com'"
      ]
     },
     "execution_count": 5,
     "metadata": {},
     "output_type": "execute_result"
    }
   ],
   "source": [
    "browser.find_by_name(name = 'username').type('devindubin@gmail.com')"
   ]
  },
  {
   "cell_type": "code",
   "execution_count": 6,
   "metadata": {},
   "outputs": [],
   "source": [
    "password = '4rFR!gPHpY4tU8y'"
   ]
  },
  {
   "cell_type": "code",
   "execution_count": 7,
   "metadata": {},
   "outputs": [
    {
     "data": {
      "text/plain": [
       "'4rFR!gPHpY4tU8y'"
      ]
     },
     "execution_count": 7,
     "metadata": {},
     "output_type": "execute_result"
    }
   ],
   "source": [
    "browser.find_by_css('input')[1].type(password)\n"
   ]
  },
  {
   "cell_type": "code",
   "execution_count": 8,
   "metadata": {},
   "outputs": [],
   "source": [
    "browser.find_by_tag('button').click()"
   ]
  },
  {
   "cell_type": "code",
   "execution_count": 9,
   "metadata": {},
   "outputs": [],
   "source": [
    "browser.find_by_text('Top Charts').click()"
   ]
  },
  {
   "cell_type": "code",
   "execution_count": 10,
   "metadata": {},
   "outputs": [],
   "source": [
    "from datetime import datetime, timedelta"
   ]
  },
  {
   "cell_type": "code",
   "execution_count": 173,
   "metadata": {},
   "outputs": [],
   "source": [
    "today = datetime.now()\n",
    "#.strftime(\"%Y-%m-%d\")\n",
    "dates = [(today - timedelta(days=i)).strftime(\"%Y-%m-%d\") for i in range(90)]"
   ]
  },
  {
   "cell_type": "code",
   "execution_count": 174,
   "metadata": {},
   "outputs": [
    {
     "ename": "AttributeError",
     "evalue": "'NoneType' object has no attribute 'tbody'",
     "output_type": "error",
     "traceback": [
      "\u001b[1;31m---------------------------------------------------------------------------\u001b[0m",
      "\u001b[1;31mAttributeError\u001b[0m                            Traceback (most recent call last)",
      "\u001b[1;32m<ipython-input-174-b7e6768e499b>\u001b[0m in \u001b[0;36m<module>\u001b[1;34m\u001b[0m\n\u001b[0;32m      8\u001b[0m     \u001b[0mhtml\u001b[0m \u001b[1;33m=\u001b[0m \u001b[0mbrowser\u001b[0m\u001b[1;33m.\u001b[0m\u001b[0mhtml\u001b[0m\u001b[1;33m\u001b[0m\u001b[1;33m\u001b[0m\u001b[0m\n\u001b[0;32m      9\u001b[0m     \u001b[0msoup\u001b[0m \u001b[1;33m=\u001b[0m \u001b[0mBeautifulSoup\u001b[0m\u001b[1;33m(\u001b[0m\u001b[0mhtml\u001b[0m\u001b[1;33m,\u001b[0m\u001b[1;34m'html.parser'\u001b[0m\u001b[1;33m)\u001b[0m\u001b[1;33m\u001b[0m\u001b[1;33m\u001b[0m\u001b[0m\n\u001b[1;32m---> 10\u001b[1;33m     \u001b[0mall_trs\u001b[0m \u001b[1;33m=\u001b[0m \u001b[0msoup\u001b[0m\u001b[1;33m.\u001b[0m\u001b[0mtable\u001b[0m\u001b[1;33m.\u001b[0m\u001b[0mtbody\u001b[0m\u001b[1;33m.\u001b[0m\u001b[0mfind_all\u001b[0m\u001b[1;33m(\u001b[0m\u001b[1;34m'tr'\u001b[0m\u001b[1;33m)\u001b[0m\u001b[1;33m\u001b[0m\u001b[1;33m\u001b[0m\u001b[0m\n\u001b[0m\u001b[0;32m     11\u001b[0m     \u001b[0mbuild_df\u001b[0m \u001b[1;33m=\u001b[0m \u001b[1;33m{\u001b[0m\u001b[1;34m'Rank'\u001b[0m\u001b[1;33m:\u001b[0m\u001b[1;33m[\u001b[0m\u001b[1;33m]\u001b[0m\u001b[1;33m,\u001b[0m\u001b[1;34m'Date'\u001b[0m\u001b[1;33m:\u001b[0m \u001b[0mmoment\u001b[0m\u001b[1;33m,\u001b[0m\u001b[1;34m'Free'\u001b[0m\u001b[1;33m:\u001b[0m\u001b[1;33m[\u001b[0m\u001b[1;33m]\u001b[0m\u001b[1;33m,\u001b[0m\u001b[1;34m'Paid'\u001b[0m\u001b[1;33m:\u001b[0m\u001b[1;33m[\u001b[0m\u001b[1;33m]\u001b[0m\u001b[1;33m,\u001b[0m\u001b[1;34m'Grossing'\u001b[0m\u001b[1;33m:\u001b[0m\u001b[1;33m[\u001b[0m\u001b[1;33m]\u001b[0m\u001b[1;33m}\u001b[0m\u001b[1;33m\u001b[0m\u001b[1;33m\u001b[0m\u001b[0m\n\u001b[0;32m     12\u001b[0m     \u001b[1;32mfor\u001b[0m \u001b[0m_\u001b[0m \u001b[1;32min\u001b[0m \u001b[0mall_trs\u001b[0m\u001b[1;33m:\u001b[0m\u001b[1;33m\u001b[0m\u001b[1;33m\u001b[0m\u001b[0m\n",
      "\u001b[1;31mAttributeError\u001b[0m: 'NoneType' object has no attribute 'tbody'"
     ]
    }
   ],
   "source": [
    "#https://www.appannie.com/apps/ios/top-chart?country=US&category=36&device=iphone&date=2020-12-01&feed=All&page_number=0&page_size=500&rank_sorting_type=rank\n",
    "list_of_builds = []\n",
    "\n",
    "for moment in dates:\n",
    "    url = f'https://www.appannie.com/apps/ios/top-chart?country=US&category=36&device=iphone&date={moment}&feed=All&page_number=0&page_size=500&rank_sorting_type=rank'\n",
    "    browser.visit(url)\n",
    "    time.sleep(2)\n",
    "    html = browser.html\n",
    "    soup = BeautifulSoup(html,'html.parser')\n",
    "    all_trs = soup.table.tbody.find_all('tr')\n",
    "    build_df = {'Rank':[],'Date': moment,'Free':[],'Paid':[],'Grossing':[]}\n",
    "    for _ in all_trs:\n",
    "        current_rank_apps = [elem.text for elem in _.select('a span')]\n",
    "\n",
    "        rank_num = _.span.text\n",
    "        build_df['Rank'].append((rank_num))\n",
    "        build_df['Free'].append([current_rank_apps[0],current_rank_apps[1]])\n",
    "        build_df['Paid'].append([current_rank_apps[2],current_rank_apps[3]])\n",
    "        build_df['Grossing'].append([current_rank_apps[4],current_rank_apps[5]])\n",
    "    \n",
    "    list_of_builds.append(build_df)\n",
    "\n",
    "    "
   ]
  },
  {
   "cell_type": "code",
   "execution_count": 175,
   "metadata": {},
   "outputs": [
    {
     "data": {
      "text/html": [
       "<div>\n",
       "<style scoped>\n",
       "    .dataframe tbody tr th:only-of-type {\n",
       "        vertical-align: middle;\n",
       "    }\n",
       "\n",
       "    .dataframe tbody tr th {\n",
       "        vertical-align: top;\n",
       "    }\n",
       "\n",
       "    .dataframe thead th {\n",
       "        text-align: right;\n",
       "    }\n",
       "</style>\n",
       "<table border=\"1\" class=\"dataframe\">\n",
       "  <thead>\n",
       "    <tr style=\"text-align: right;\">\n",
       "      <th></th>\n",
       "      <th>Rank</th>\n",
       "      <th>Free</th>\n",
       "      <th>Paid</th>\n",
       "      <th>Grossing</th>\n",
       "    </tr>\n",
       "    <tr>\n",
       "      <th>Date</th>\n",
       "      <th></th>\n",
       "      <th></th>\n",
       "      <th></th>\n",
       "      <th></th>\n",
       "    </tr>\n",
       "  </thead>\n",
       "  <tbody>\n",
       "    <tr>\n",
       "      <th>2020-12-01</th>\n",
       "      <td>1</td>\n",
       "      <td>[Roof Rails, Voodoo]</td>\n",
       "      <td>[Minecraft, Mojang]</td>\n",
       "      <td>[YouTube: Watch, Listen, Stream, Google]</td>\n",
       "    </tr>\n",
       "    <tr>\n",
       "      <th>2020-12-01</th>\n",
       "      <td>2</td>\n",
       "      <td>[ZOOM Cloud Meetings, Zoom Video Communications]</td>\n",
       "      <td>[Bloons TD 6, Ninja Kiwi]</td>\n",
       "      <td>[Clash of Clans, Supercell]</td>\n",
       "    </tr>\n",
       "    <tr>\n",
       "      <th>2020-12-01</th>\n",
       "      <td>3</td>\n",
       "      <td>[YouTube: Watch, Listen, Stream, Google]</td>\n",
       "      <td>[Heads Up! - Trivia on the go, Warner Bros]</td>\n",
       "      <td>[Disney+, Disney]</td>\n",
       "    </tr>\n",
       "    <tr>\n",
       "      <th>2020-12-01</th>\n",
       "      <td>4</td>\n",
       "      <td>[Among Us!, InnerSloth]</td>\n",
       "      <td>[Monopoly, Marmalade]</td>\n",
       "      <td>[Tinder - Dating &amp; Make Friends, Match Group]</td>\n",
       "    </tr>\n",
       "    <tr>\n",
       "      <th>2020-12-01</th>\n",
       "      <td>5</td>\n",
       "      <td>[TikTok, TikTok Pte Ltd]</td>\n",
       "      <td>[Procreate Pocket, Savage Interactive]</td>\n",
       "      <td>[Roblox, Roblox]</td>\n",
       "    </tr>\n",
       "    <tr>\n",
       "      <th>...</th>\n",
       "      <td>...</td>\n",
       "      <td>...</td>\n",
       "      <td>...</td>\n",
       "      <td>...</td>\n",
       "    </tr>\n",
       "    <tr>\n",
       "      <th>2020-11-19</th>\n",
       "      <td>496</td>\n",
       "      <td>[healow, eClinicalWorks]</td>\n",
       "      <td>[PDG PROmote 2019-2021, ForceReadiness.com]</td>\n",
       "      <td>[DAZN: Live Boxing &amp; MMA, DAZN]</td>\n",
       "    </tr>\n",
       "    <tr>\n",
       "      <th>2020-11-19</th>\n",
       "      <td>497</td>\n",
       "      <td>[Current - Bank for Modern Life, Finco Services]</td>\n",
       "      <td>[NeuralCam NightMode, Halcyon Products]</td>\n",
       "      <td>[Torch-Meet new people, Torch]</td>\n",
       "    </tr>\n",
       "    <tr>\n",
       "      <th>2020-11-19</th>\n",
       "      <td>498</td>\n",
       "      <td>[・MEGA・, Mega Limited]</td>\n",
       "      <td>[Spectre Camera, Chroma Noir]</td>\n",
       "      <td>[Mahjong+, Jam City]</td>\n",
       "    </tr>\n",
       "    <tr>\n",
       "      <th>2020-11-19</th>\n",
       "      <td>499</td>\n",
       "      <td>[PS Remote Play, Sony]</td>\n",
       "      <td>[Crying Suns, Humble Bundle]</td>\n",
       "      <td>[Jurassic World™: The Game, Ludia]</td>\n",
       "    </tr>\n",
       "    <tr>\n",
       "      <th>2020-11-19</th>\n",
       "      <td>500</td>\n",
       "      <td>[ScreenKit -Aesthetic App Icons, Twinstar Crea...</td>\n",
       "      <td>[Stack the States® 2, Dan Russell-Pinson]</td>\n",
       "      <td>[SCRUFF - Gay Dating &amp; Chat, Perry Street]</td>\n",
       "    </tr>\n",
       "  </tbody>\n",
       "</table>\n",
       "<p>6500 rows × 4 columns</p>\n",
       "</div>"
      ],
      "text/plain": [
       "           Rank                                               Free  \\\n",
       "Date                                                                 \n",
       "2020-12-01    1                               [Roof Rails, Voodoo]   \n",
       "2020-12-01    2   [ZOOM Cloud Meetings, Zoom Video Communications]   \n",
       "2020-12-01    3           [YouTube: Watch, Listen, Stream, Google]   \n",
       "2020-12-01    4                            [Among Us!, InnerSloth]   \n",
       "2020-12-01    5                           [TikTok, TikTok Pte Ltd]   \n",
       "...         ...                                                ...   \n",
       "2020-11-19  496                           [healow, eClinicalWorks]   \n",
       "2020-11-19  497   [Current - Bank for Modern Life, Finco Services]   \n",
       "2020-11-19  498                             [・MEGA・, Mega Limited]   \n",
       "2020-11-19  499                             [PS Remote Play, Sony]   \n",
       "2020-11-19  500  [ScreenKit -Aesthetic App Icons, Twinstar Crea...   \n",
       "\n",
       "                                                   Paid  \\\n",
       "Date                                                      \n",
       "2020-12-01                          [Minecraft, Mojang]   \n",
       "2020-12-01                    [Bloons TD 6, Ninja Kiwi]   \n",
       "2020-12-01  [Heads Up! - Trivia on the go, Warner Bros]   \n",
       "2020-12-01                        [Monopoly, Marmalade]   \n",
       "2020-12-01       [Procreate Pocket, Savage Interactive]   \n",
       "...                                                 ...   \n",
       "2020-11-19  [PDG PROmote 2019-2021, ForceReadiness.com]   \n",
       "2020-11-19      [NeuralCam NightMode, Halcyon Products]   \n",
       "2020-11-19                [Spectre Camera, Chroma Noir]   \n",
       "2020-11-19                 [Crying Suns, Humble Bundle]   \n",
       "2020-11-19    [Stack the States® 2, Dan Russell-Pinson]   \n",
       "\n",
       "                                                 Grossing  \n",
       "Date                                                       \n",
       "2020-12-01       [YouTube: Watch, Listen, Stream, Google]  \n",
       "2020-12-01                    [Clash of Clans, Supercell]  \n",
       "2020-12-01                              [Disney+, Disney]  \n",
       "2020-12-01  [Tinder - Dating & Make Friends, Match Group]  \n",
       "2020-12-01                               [Roblox, Roblox]  \n",
       "...                                                   ...  \n",
       "2020-11-19                [DAZN: Live Boxing & MMA, DAZN]  \n",
       "2020-11-19                 [Torch-Meet new people, Torch]  \n",
       "2020-11-19                           [Mahjong+, Jam City]  \n",
       "2020-11-19             [Jurassic World™: The Game, Ludia]  \n",
       "2020-11-19     [SCRUFF - Gay Dating & Chat, Perry Street]  \n",
       "\n",
       "[6500 rows x 4 columns]"
      ]
     },
     "execution_count": 175,
     "metadata": {},
     "output_type": "execute_result"
    }
   ],
   "source": [
    "builds_to_concat = [pd.DataFrame(_).set_index('Date') for _ in list_of_builds]\n",
    "pd.concat(builds_to_concat)"
   ]
  },
  {
   "cell_type": "code",
   "execution_count": 109,
   "metadata": {},
   "outputs": [],
   "source": [
    "\n"
   ]
  },
  {
   "cell_type": "code",
   "execution_count": 171,
   "metadata": {},
   "outputs": [],
   "source": [
    "url = f'https://www.appannie.com/apps/ios/top-chart?country=US&category=36&device=iphone&date={moment}&feed=All&page_number=0&page_size=500&rank_sorting_type=rank'\n",
    "browser.visit(url)"
   ]
  },
  {
   "cell_type": "code",
   "execution_count": 87,
   "metadata": {},
   "outputs": [
    {
     "data": {
      "text/plain": [
       "'Roof Rails'"
      ]
     },
     "execution_count": 87,
     "metadata": {},
     "output_type": "execute_result"
    }
   ],
   "source": []
  },
  {
   "cell_type": "code",
   "execution_count": 97,
   "metadata": {},
   "outputs": [
    {
     "data": {
      "text/plain": [
       "['Roof Rails',\n",
       " 'Voodoo',\n",
       " 'Minecraft',\n",
       " 'Mojang',\n",
       " 'YouTube: Watch, Listen, Stream',\n",
       " 'Google']"
      ]
     },
     "execution_count": 97,
     "metadata": {},
     "output_type": "execute_result"
    }
   ],
   "source": []
  },
  {
   "cell_type": "code",
   "execution_count": 112,
   "metadata": {},
   "outputs": [],
   "source": []
  },
  {
   "cell_type": "code",
   "execution_count": 39,
   "metadata": {},
   "outputs": [],
   "source": []
  },
  {
   "cell_type": "code",
   "execution_count": 79,
   "metadata": {},
   "outputs": [
    {
     "data": {
      "text/html": [
       "<div>\n",
       "<style scoped>\n",
       "    .dataframe tbody tr th:only-of-type {\n",
       "        vertical-align: middle;\n",
       "    }\n",
       "\n",
       "    .dataframe tbody tr th {\n",
       "        vertical-align: top;\n",
       "    }\n",
       "\n",
       "    .dataframe thead tr th {\n",
       "        text-align: left;\n",
       "    }\n",
       "</style>\n",
       "<table border=\"1\" class=\"dataframe\">\n",
       "  <thead>\n",
       "    <tr>\n",
       "      <th></th>\n",
       "      <th>#</th>\n",
       "      <th>Free</th>\n",
       "      <th>Paid</th>\n",
       "      <th>Grossing</th>\n",
       "    </tr>\n",
       "    <tr>\n",
       "      <th></th>\n",
       "      <th>#</th>\n",
       "      <th>Free</th>\n",
       "      <th>Paid</th>\n",
       "      <th>Grossing</th>\n",
       "    </tr>\n",
       "  </thead>\n",
       "  <tbody>\n",
       "    <tr>\n",
       "      <th>0</th>\n",
       "      <td>1</td>\n",
       "      <td>Threads from Instagram  Instagram  =</td>\n",
       "      <td>Minecraft  Mojang  =  $</td>\n",
       "      <td>Roblox  Roblox  =  $</td>\n",
       "    </tr>\n",
       "    <tr>\n",
       "      <th>1</th>\n",
       "      <td>2</td>\n",
       "      <td>Walmart - Shopping &amp; Grocery  Walmart  ▲ 14</td>\n",
       "      <td>Heads Up! - Trivia on the go  Warner Bros  =  $</td>\n",
       "      <td>YouTube: Watch, Listen, Stream  Google  ▲ 1  $</td>\n",
       "    </tr>\n",
       "    <tr>\n",
       "      <th>2</th>\n",
       "      <td>3</td>\n",
       "      <td>Among Us!  InnerSloth  =  $</td>\n",
       "      <td>Human Anatomy Atlas 2021  Visible Body  ▲ 2  $</td>\n",
       "      <td>Disney+  Disney  ▼ 1  $</td>\n",
       "    </tr>\n",
       "    <tr>\n",
       "      <th>3</th>\n",
       "      <td>4</td>\n",
       "      <td>Roof Rails  Voodoo  =  $</td>\n",
       "      <td>Monopoly  Marmalade  =  $</td>\n",
       "      <td>Call of Duty®: Mobile  Activision Publishing  ...</td>\n",
       "    </tr>\n",
       "    <tr>\n",
       "      <th>4</th>\n",
       "      <td>5</td>\n",
       "      <td>Project Makeover  Bubblegum Games  ▼ 3  $</td>\n",
       "      <td>Bloons TD 6  Ninja Kiwi  ▲ 2  $</td>\n",
       "      <td>Tinder - Dating &amp; Make Friends  Match Group  ▼...</td>\n",
       "    </tr>\n",
       "    <tr>\n",
       "      <th>...</th>\n",
       "      <td>...</td>\n",
       "      <td>...</td>\n",
       "      <td>...</td>\n",
       "      <td>...</td>\n",
       "    </tr>\n",
       "    <tr>\n",
       "      <th>495</th>\n",
       "      <td>496</td>\n",
       "      <td>Jetpack Joyride  Halfbrick  ▲ 210  $</td>\n",
       "      <td>Rhythm Sight Reading Trainer  Rolfs Apps  ▲ 108</td>\n",
       "      <td>Rival Stars Horse Racing  PikPok  ▲ 18  $</td>\n",
       "    </tr>\n",
       "    <tr>\n",
       "      <th>496</th>\n",
       "      <td>497</td>\n",
       "      <td>Sephora: Top Makeup &amp; Skincare  Sephora  ▼ 39</td>\n",
       "      <td>Pill Identifier by Drugs.com  Drugs  ▲ 323</td>\n",
       "      <td>Followers Pro +  Dynamic Slash LLC  ▼ 11  $</td>\n",
       "    </tr>\n",
       "    <tr>\n",
       "      <th>497</th>\n",
       "      <td>498</td>\n",
       "      <td>fuboTV: Watch Live Sports &amp; TV  fuboTV  ▲ 357</td>\n",
       "      <td>Stamena - Longer lasting sex  Nathaniel Eliaso...</td>\n",
       "      <td>5 Differences Online  Smart Project  ▲ 2  $</td>\n",
       "    </tr>\n",
       "    <tr>\n",
       "      <th>498</th>\n",
       "      <td>499</td>\n",
       "      <td>Virtual Slime  Cider Software  $</td>\n",
       "      <td>Cookies vs. Claus  Josh Williams  ▲ 12</td>\n",
       "      <td>SCRUFF - Gay Dating &amp; Chat  Perry Street  ▼ 18  $</td>\n",
       "    </tr>\n",
       "    <tr>\n",
       "      <th>499</th>\n",
       "      <td>500</td>\n",
       "      <td>DHgate-Online Wholesale Stores  DHgate.com  ▲ 24</td>\n",
       "      <td>PJ Masks™: Racing Heroes  Entertainment One  ▼ 75</td>\n",
       "      <td>Blaze of Battle  Leyi Network  ▼ 98  $</td>\n",
       "    </tr>\n",
       "  </tbody>\n",
       "</table>\n",
       "<p>500 rows × 4 columns</p>\n",
       "</div>"
      ],
      "text/plain": [
       "       #                                              Free  \\\n",
       "       #                                              Free   \n",
       "0      1              Threads from Instagram  Instagram  =   \n",
       "1      2       Walmart - Shopping & Grocery  Walmart  ▲ 14   \n",
       "2      3                       Among Us!  InnerSloth  =  $   \n",
       "3      4                          Roof Rails  Voodoo  =  $   \n",
       "4      5         Project Makeover  Bubblegum Games  ▼ 3  $   \n",
       "..   ...                                               ...   \n",
       "495  496              Jetpack Joyride  Halfbrick  ▲ 210  $   \n",
       "496  497     Sephora: Top Makeup & Skincare  Sephora  ▼ 39   \n",
       "497  498     fuboTV: Watch Live Sports & TV  fuboTV  ▲ 357   \n",
       "498  499                  Virtual Slime  Cider Software  $   \n",
       "499  500  DHgate-Online Wholesale Stores  DHgate.com  ▲ 24   \n",
       "\n",
       "                                                  Paid  \\\n",
       "                                                  Paid   \n",
       "0                              Minecraft  Mojang  =  $   \n",
       "1      Heads Up! - Trivia on the go  Warner Bros  =  $   \n",
       "2       Human Anatomy Atlas 2021  Visible Body  ▲ 2  $   \n",
       "3                            Monopoly  Marmalade  =  $   \n",
       "4                      Bloons TD 6  Ninja Kiwi  ▲ 2  $   \n",
       "..                                                 ...   \n",
       "495    Rhythm Sight Reading Trainer  Rolfs Apps  ▲ 108   \n",
       "496         Pill Identifier by Drugs.com  Drugs  ▲ 323   \n",
       "497  Stamena - Longer lasting sex  Nathaniel Eliaso...   \n",
       "498             Cookies vs. Claus  Josh Williams  ▲ 12   \n",
       "499  PJ Masks™: Racing Heroes  Entertainment One  ▼ 75   \n",
       "\n",
       "                                              Grossing  \n",
       "                                              Grossing  \n",
       "0                                 Roblox  Roblox  =  $  \n",
       "1       YouTube: Watch, Listen, Stream  Google  ▲ 1  $  \n",
       "2                              Disney+  Disney  ▼ 1  $  \n",
       "3    Call of Duty®: Mobile  Activision Publishing  ...  \n",
       "4    Tinder - Dating & Make Friends  Match Group  ▼...  \n",
       "..                                                 ...  \n",
       "495          Rival Stars Horse Racing  PikPok  ▲ 18  $  \n",
       "496        Followers Pro +  Dynamic Slash LLC  ▼ 11  $  \n",
       "497        5 Differences Online  Smart Project  ▲ 2  $  \n",
       "498  SCRUFF - Gay Dating & Chat  Perry Street  ▼ 18  $  \n",
       "499             Blaze of Battle  Leyi Network  ▼ 98  $  \n",
       "\n",
       "[500 rows x 4 columns]"
      ]
     },
     "execution_count": 79,
     "metadata": {},
     "output_type": "execute_result"
    }
   ],
   "source": []
  },
  {
   "cell_type": "code",
   "execution_count": 43,
   "metadata": {},
   "outputs": [
    {
     "data": {
      "text/plain": [
       "1"
      ]
     },
     "execution_count": 43,
     "metadata": {},
     "output_type": "execute_result"
    }
   ],
   "source": []
  },
  {
   "cell_type": "code",
   "execution_count": null,
   "metadata": {},
   "outputs": [],
   "source": []
  }
 ],
 "metadata": {
  "kernelspec": {
   "display_name": "Python 3",
   "language": "python",
   "name": "python3"
  },
  "language_info": {
   "codemirror_mode": {
    "name": "ipython",
    "version": 3
   },
   "file_extension": ".py",
   "mimetype": "text/x-python",
   "name": "python",
   "nbconvert_exporter": "python",
   "pygments_lexer": "ipython3",
   "version": "3.7.6"
  }
 },
 "nbformat": 4,
 "nbformat_minor": 4
}
