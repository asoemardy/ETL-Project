{
 "cells": [
  {
   "cell_type": "code",
   "execution_count": 1,
   "metadata": {},
   "outputs": [],
   "source": [
    "import datetime"
   ]
  },
  {
   "cell_type": "code",
   "execution_count": null,
   "metadata": {},
   "outputs": [],
   "source": [
    "# time period \n",
    "# app name\n",
    "# app index/rank\n",
    "# platform\n",
    "# publisher\n",
    "# category\n",
    "\n",
    "#Create date range\n",
    "today = datetime.now()\n",
    "dates = [(today - timedelta(days=i)).strftime(\"%Y-%m-%d\") for i in range(2)]\n",
    "\n",
    "\n",
    "def view_(app_name,time_period = dates):\n",
    "    \n",
    "    #type of graph assigned\n",
    "    \n",
    "    \n",
    "    \n",
    "    \n",
    "    \n",
    "    ###\n",
    "    #Graph Details\n",
    "    ####\n",
    "    \n",
    "    #x:axis - dates\n",
    "    #y:axis rank (descending order)\n",
    "    \n",
    "    return #plot object \n",
    "\n",
    "\n",
    "    "
   ]
  }
 ],
 "metadata": {
  "kernelspec": {
   "display_name": "Python 3",
   "language": "python",
   "name": "python3"
  },
  "language_info": {
   "codemirror_mode": {
    "name": "ipython",
    "version": 3
   },
   "file_extension": ".py",
   "mimetype": "text/x-python",
   "name": "python",
   "nbconvert_exporter": "python",
   "pygments_lexer": "ipython3",
   "version": "3.7.6"
  }
 },
 "nbformat": 4,
 "nbformat_minor": 4
}
