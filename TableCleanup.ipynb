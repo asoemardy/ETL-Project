{
 "cells": [
  {
   "cell_type": "code",
   "execution_count": null,
   "metadata": {},
   "outputs": [],
   "source": [
    "df_raw_complete = pd.concat(builds_to_concat)\n",
    "df_raw_complete.head(100)"
   ]
  },
  {
   "cell_type": "code",
   "execution_count": null,
   "metadata": {},
   "outputs": [],
   "source": [
    "df_raw_new = df_raw_complete.reset_index()\n",
    "df_raw_new"
   ]
  },
  {
   "cell_type": "code",
   "execution_count": null,
   "metadata": {},
   "outputs": [],
   "source": [
    "def check_publisher(element, element_list):\n",
    "    if element not in element_list:\n",
    "        element_list.append(element)\n",
    "        \n",
    "def check_app(element, cat, element_list, cat_list, lookup_table, pub_id_list):\n",
    "    if element[0] not in element_list:\n",
    "        element_list.append(element[0])\n",
    "        cat_list.append(cat)\n",
    "        pub_id_list.append(int(lookup_table[lookup_table['Publisher_Name'] == element[1]]['Publisher_ID']))\n",
    "        "
   ]
  },
  {
   "cell_type": "code",
   "execution_count": null,
   "metadata": {},
   "outputs": [],
   "source": [
    "publisher_list = []\n",
    "\n",
    "for index, row in df_raw_new.iterrows():\n",
    "    check_publisher(row['Free'][1], publisher_list)\n",
    "    check_publisher(row['Grossing'][1], publisher_list)\n",
    "    check_publisher(row['Paid'][1], publisher_list)\n",
    "   "
   ]
  },
  {
   "cell_type": "code",
   "execution_count": null,
   "metadata": {},
   "outputs": [],
   "source": [
    "publisher_id = np.arange(1, len(publisher_list)+1)\n",
    "publisher_id"
   ]
  },
  {
   "cell_type": "code",
   "execution_count": null,
   "metadata": {},
   "outputs": [],
   "source": [
    "df_publisher = pd.DataFrame(zip(publisher_id, publisher_list), columns=['Publisher_ID','Publisher_Name'])\n",
    "df_publisher"
   ]
  },
  {
   "cell_type": "code",
   "execution_count": null,
   "metadata": {},
   "outputs": [],
   "source": [
    "app_list = []\n",
    "cat_list = []\n",
    "pub_id = []\n",
    "\n",
    "for index, row in df_raw_new.iterrows():\n",
    "    # If the app is not in the list yet, insert it into the list and insert the category on the cat_list: 1(Free), 2(Grossing), 3(Paid)\n",
    "    check_app(row['Free'], 1, app_list, cat_list, df_publisher, pub_id)\n",
    "    check_app(row['Grossing'], 2, app_list, cat_list, df_publisher, pub_id)\n",
    "    check_app(row['Paid'], 3, app_list, cat_list, df_publisher, pub_id)"
   ]
  },
  {
   "cell_type": "code",
   "execution_count": null,
   "metadata": {},
   "outputs": [],
   "source": [
    "app_id = np.arange(1, len(app_list)+1)\n",
    "df_app = pd.DataFrame(zip(app_id, app_list, cat_list, pub_id), columns=['App_ID','App_Name','Category','Publisher_ID'])\n",
    "df_app"
   ]
  }
 ],
 "metadata": {
  "kernelspec": {
   "display_name": "Python 3",
   "language": "python",
   "name": "python3"
  },
  "language_info": {
   "codemirror_mode": {
    "name": "ipython",
    "version": 3
   },
   "file_extension": ".py",
   "mimetype": "text/x-python",
   "name": "python",
   "nbconvert_exporter": "python",
   "pygments_lexer": "ipython3",
   "version": "3.7.6"
  }
 },
 "nbformat": 4,
 "nbformat_minor": 4
}
